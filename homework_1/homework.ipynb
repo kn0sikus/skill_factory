{
 "cells": [
  {
   "cell_type": "markdown",
   "metadata": {},
   "source": [
    "# Угадай число\n",
    "Нужно написать программу, которая угадывает число за минимальное число попыток.\n",
    "\n",
    "## Условия соревнования\n",
    "- Компьютер загадывает целое число от 1 до 100, затем угадывает его.\n",
    "- Алгоритм учитывает информацию о том, больше ли случайное число или меньше нужного нам.\n",
    "- Необходимо добиться того, чтобы программа угадывала число меньше, чем за 20 попыток. \n",
    "\n",
    "## Разработка\n",
    "В процессе разработки было написано 3 различных алгоритма:\n",
    "- Алгоритм modified_predict\n",
    "- Алгоритм mean_predict\n",
    "- Алгоритм random_predict"
   ]
  },
  {
   "cell_type": "code",
   "execution_count": 1,
   "metadata": {},
   "outputs": [],
   "source": [
    "import numpy as np\n",
    "\n",
    "test_number=1 # Тестовое число, чтобы продемонстрировать работоспособность алгоритмов"
   ]
  },
  {
   "cell_type": "code",
   "execution_count": 3,
   "metadata": {},
   "outputs": [
    {
     "name": "stdout",
     "output_type": "stream",
     "text": [
      "Алгоритм modified_predict угадал число 1 за 8 попыток\n"
     ]
    }
   ],
   "source": [
    "# Алгоритм modified_predict\n",
    "\n",
    "def modified_predict(number:int=1) -> int: # 1ый метод\n",
    "    \"\"\"Угадываем число случайным образом с модификацией\n",
    "\n",
    "    Args:\n",
    "        number (int, optional): Загаданное число. Defaults to 1.\n",
    "\n",
    "    Returns:\n",
    "        int: Число попыток\n",
    "    \"\"\"\n",
    "\n",
    "    count = 0\n",
    "    min=1\n",
    "    max=101\n",
    "    \n",
    "    while True:\n",
    "        count += 1\n",
    "        predict_number = np.random.randint(min, max)\n",
    "        \n",
    "        if predict_number > number:\n",
    "            max=predict_number\n",
    "        \n",
    "        if predict_number < number:\n",
    "            min=predict_number+1\n",
    "        \n",
    "        if predict_number == number:\n",
    "            break # выход из цикла, если угадали\n",
    "        \n",
    "    return(count)\n",
    "\n",
    "print(f\"Алгоритм modified_predict угадал число {test_number} за {modified_predict(test_number)} попыток\")"
   ]
  },
  {
   "cell_type": "code",
   "execution_count": 4,
   "metadata": {},
   "outputs": [
    {
     "name": "stdout",
     "output_type": "stream",
     "text": [
      "Алгоритм mean_predict угадал число 1 за 7 попыток\n"
     ]
    }
   ],
   "source": [
    "# Алгоритм mean_predict\n",
    "\n",
    "def mean_predict(number:int=1) -> int: # 2ой метод\n",
    "    \"\"\"Угадываем число методом среднее арифметическое\n",
    "\n",
    "    Args:\n",
    "        number (int, optional): Загаданное число. Defaults to 1.\n",
    "\n",
    "    Returns:\n",
    "        int: Число попыток\n",
    "    \"\"\"\n",
    "    min=1\n",
    "    max=100\n",
    "    count=0\n",
    "    \n",
    "    while True:\n",
    "        count+=1\n",
    "        mean=round((min+max)/2)\n",
    "        \n",
    "        if mean > number:\n",
    "            max=mean\n",
    "        \n",
    "        if mean < number:\n",
    "            min=mean\n",
    "        \n",
    "        if mean == number:\n",
    "            break # выход из цикла, если угадали\n",
    "        \n",
    "        # Костыль\n",
    "        # Во время тестирования было обнаружено, что алгоритм не способен угадать число 1 (из-за округления в высшую сторону)\n",
    "        # Поэтому было написано неэлегантное решение проблемы\n",
    "        if min==1 and max==2: \n",
    "            count+=1\n",
    "            mean=1\n",
    "            if mean == number:\n",
    "                break\n",
    "            \n",
    "    return count\n",
    "\n",
    "print(f\"Алгоритм mean_predict угадал число {test_number} за {mean_predict(test_number)} попыток\")"
   ]
  },
  {
   "cell_type": "code",
   "execution_count": 7,
   "metadata": {},
   "outputs": [
    {
     "name": "stdout",
     "output_type": "stream",
     "text": [
      "Алгоритм random_predict угадал число 1 за 25 попыток\n"
     ]
    }
   ],
   "source": [
    "# Алгоритм random_predict\n",
    "\n",
    "def random_predict(number:int=1) -> int: # 3ий метод\n",
    "    \"\"\"Рандомно угадываем число\n",
    "\n",
    "    Args:\n",
    "        number (int, optional): Загаданное число. Defaults to 1.\n",
    "\n",
    "    Returns:\n",
    "        int: Число попыток\n",
    "    \"\"\"\n",
    "\n",
    "    count = 0\n",
    "\n",
    "    while True:\n",
    "        count += 1\n",
    "        predict_number = np.random.randint(1, 101) # предполагаемое число\n",
    "        if number == predict_number:\n",
    "            break # выход из цикла, если угадали\n",
    "    \n",
    "    return(count)\n",
    "\n",
    "print(f\"Алгоритм random_predict угадал число {test_number} за {random_predict(test_number)} попыток\")"
   ]
  },
  {
   "cell_type": "markdown",
   "metadata": {},
   "source": [
    "## Метрика качества\n",
    "Результаты оцениваются по среднему количеству попыток при 1000 повторений"
   ]
  },
  {
   "cell_type": "code",
   "execution_count": 8,
   "metadata": {},
   "outputs": [],
   "source": [
    "# Алгоритм подсчета среднего количества попыток\n",
    "\n",
    "def score_game(function) -> int:\n",
    "    \"\"\"За какое количество попыток в среднем из 1000 подходов угадывает наш алгоритм\n",
    "\n",
    "    Args:\n",
    "        function ([type]): алгоритм угадывания\n",
    "\n",
    "    Returns:\n",
    "        int: среднее количество попыток\n",
    "    \"\"\"\n",
    "\n",
    "    count_ls = [] # список для сохранения количества попыток\n",
    "    np.random.seed(1) # фиксируем сид для воспроизводимости\n",
    "    random_array = np.random.randint(1, 101, size=(1000)) # загадали список чисел\n",
    "\n",
    "    for number in random_array:\n",
    "        count_ls.append(function(number))\n",
    "\n",
    "    score = int(np.mean(count_ls)) # находим среднее количество попыток\n",
    "\n",
    "    return(score)"
   ]
  },
  {
   "cell_type": "code",
   "execution_count": 9,
   "metadata": {},
   "outputs": [
    {
     "name": "stdout",
     "output_type": "stream",
     "text": [
      "Алгоритм modified_predict угадывает число в среднем за 7 попыток\n",
      "Алгоритм mean_predict угадывает число в среднем за 5 попыток\n",
      "Алгоритм random_predict угадывает число в среднем за 101 попыток\n"
     ]
    }
   ],
   "source": [
    "# Анализ написанных алгоритмов\n",
    "\n",
    "print(f\"Алгоритм modified_predict угадывает число в среднем за {score_game(modified_predict)} попыток\")\n",
    "print(f\"Алгоритм mean_predict угадывает число в среднем за {score_game(mean_predict)} попыток\")\n",
    "print(f\"Алгоритм random_predict угадывает число в среднем за {score_game(random_predict)} попыток\")"
   ]
  },
  {
   "cell_type": "markdown",
   "metadata": {},
   "source": [
    "## Результат\n",
    "Было разработано 3 различных алгоритма угадывания. Каждый алгоритм оказался рабочим, однако число попыток различается. В ходе тестирований алгоритм mean_predict показал наилучший результат."
   ]
  }
 ],
 "metadata": {
  "interpreter": {
   "hash": "aee8b7b246df8f9039afb4144a1f6fd8d2ca17a180786b69acc140d282b71a49"
  },
  "kernelspec": {
   "display_name": "Python 3.10.4 64-bit",
   "language": "python",
   "name": "python3"
  },
  "language_info": {
   "codemirror_mode": {
    "name": "ipython",
    "version": 3
   },
   "file_extension": ".py",
   "mimetype": "text/x-python",
   "name": "python",
   "nbconvert_exporter": "python",
   "pygments_lexer": "ipython3",
   "version": "3.10.4"
  },
  "orig_nbformat": 4
 },
 "nbformat": 4,
 "nbformat_minor": 2
}
